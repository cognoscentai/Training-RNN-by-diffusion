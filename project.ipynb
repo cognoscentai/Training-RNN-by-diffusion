{
 "cells": [
  {
   "cell_type": "code",
   "execution_count": 1,
   "metadata": {
    "collapsed": false
   },
   "outputs": [
    {
     "name": "stderr",
     "output_type": "stream",
     "text": [
      "/home/livio/anaconda3/envs/dlnd-tf-lab/lib/python3.5/site-packages/matplotlib/font_manager.py:273: UserWarning: Matplotlib is building the font cache using fc-list. This may take a moment.\n",
      "  warnings.warn('Matplotlib is building the font cache using fc-list. This may take a moment.')\n",
      "/home/livio/anaconda3/envs/dlnd-tf-lab/lib/python3.5/site-packages/matplotlib/font_manager.py:273: UserWarning: Matplotlib is building the font cache using fc-list. This may take a moment.\n",
      "  warnings.warn('Matplotlib is building the font cache using fc-list. This may take a moment.')\n"
     ]
    }
   ],
   "source": [
    "import numpy as np\n",
    "import tensorflow as tf\n",
    "%matplotlib inline\n",
    "import matplotlib.pyplot as plt\n",
    "import math"
   ]
  },
  {
   "cell_type": "code",
   "execution_count": 2,
   "metadata": {
    "collapsed": false
   },
   "outputs": [],
   "source": [
    "#pi greco\n",
    "Pi = tf.constant( 3.14159, dtype = tf.float32)\n",
    "#sigma = 10.\n",
    "a = tf.constant( 0.5, dtype = tf.float32)\n",
    "lambdaa = tf.constant( .00035, dtype = tf.float32)\n",
    "#size of hidden states\n",
    "state_size = 12\n",
    "#length of a sequence\n",
    "size = 10\n",
    "#total number of samples\n",
    "num_samples = 2000\n",
    "#number of samples in a batch (choose a number that divides num_samples)\n",
    "epoch_size = 50\n",
    "num_step = int(num_samples/epoch_size)\n",
    "#number of epochs\n",
    "num_epochs = 101"
   ]
  },
  {
   "cell_type": "code",
   "execution_count": 3,
   "metadata": {
    "collapsed": false
   },
   "outputs": [],
   "source": [
    "def gen_data(size= size, num_samples = num_samples):\n",
    "    lista = []\n",
    "    yout = []\n",
    "    for _ in range(num_samples):\n",
    "            X = 2*np.random.random(size) - 1\n",
    "            ar1 = np.zeros(size)\n",
    "            a = int( np.floor(size*np.random.random()) )      \n",
    "            ar1[a] = 1.\n",
    "            segna = True\n",
    "            while segna:\n",
    "                b = int( np.floor(size*np.random.random()) )\n",
    "                if ( b != a):\n",
    "                    segna = False\n",
    "            ar1[b] = 1. \n",
    "            yout.append(0.5 + 0.25*( X[b] + X[a] ))\n",
    "            ar2 = np.dstack( (X,ar1)) \n",
    "            ar2 = np.squeeze(ar2)\n",
    "            lista.append(ar2)\n",
    "    Xout = np.stack(lista, axis=0)  \n",
    "    y_train = np.asarray(yout)\n",
    "    y_train = np.reshape(y_train, [num_samples,1])\n",
    "    return Xout, y_train\n",
    "\n"
   ]
  },
  {
   "cell_type": "code",
   "execution_count": 4,
   "metadata": {
    "collapsed": true
   },
   "outputs": [],
   "source": [
    "def gen_batch(raw_data, epoch_size, num_step):\n",
    "    raw_x, raw_y = raw_data\n",
    "    for i in range(num_step):\n",
    "        x = raw_x[i*epoch_size:(i + 1) * epoch_size, :, :]\n",
    "        y = raw_y[i*epoch_size:(i + 1) * epoch_size, :]\n",
    "        yield (x, y)\n",
    "\n",
    "def gen_epochs(n, epoch_size, num_step):\n",
    "    for i in range(n):\n",
    "        yield gen_batch(gen_data(), epoch_size, num_step)        "
   ]
  },
  {
   "cell_type": "code",
   "execution_count": 5,
   "metadata": {
    "collapsed": false
   },
   "outputs": [],
   "source": [
    "x = tf.placeholder(tf.float32, [epoch_size, size, 2], name='input_placeholder')\n",
    "y = tf.placeholder(tf.float32, [epoch_size, 1], name='output_placeholder')\n",
    "sigma = tf.placeholder(tf.float32, shape = (), name='sigma_placeholder')\n",
    "#init_state = tf.zeros([num_samples, state_size])\n",
    "\n",
    "with tf.variable_scope('inizialization'):\n",
    "    iss = tf.get_variable('iss', [epoch_size, state_size], initializer=tf.constant_initializer(0.0))\n",
    "\n",
    "rnn_inputs = tf.unstack(x, axis=1)"
   ]
  },
  {
   "cell_type": "code",
   "execution_count": 6,
   "metadata": {
    "collapsed": false
   },
   "outputs": [],
   "source": [
    "def conv_h_sigma(tensor):\n",
    "    #coeff = a/math.sqrt(1. + 2.*math.pow(a*sigma,2.))\n",
    "    coeff = a/tf.sqrt( 1. + 2.*tf.square(a*sigma) )\n",
    "    return tf.erf( tf.scalar_mul(coeff, tensor) )\n",
    "\n",
    "def sqrt_conv_h2_sigma(tensor):\n",
    "    unos = tf.ones_like(tensor, tf.float32)\n",
    "    #coeff1 = - math.sqrt(Pi)/math.sqrt(Pi + 8.*math.pow(a*sigma,2.))\n",
    "    #coeff2 = - (4.*math.pow(a,2.))/( Pi + 8.*math.pow(a*sigma,2.) )\n",
    "    coeff1 = - tf.sqrt(Pi)/tf.sqrt(Pi + 8.*tf.square(a*sigma))\n",
    "    coeff2 = - 4.*tf.square(a)/(Pi + 8.*tf.square(a*sigma))\n",
    "    x2 = tf.exp( tf.scalar_mul(coeff2, tf.multiply(tensor,tensor) ) )\n",
    "    return tf.sqrt( tf.add( unos, tf.scalar_mul(coeff1,x2)  ) ) \n",
    "\n",
    "def square_norm(tensor):\n",
    "    return tf.reduce_sum( tf.multiply(tensor,tensor) )"
   ]
  },
  {
   "cell_type": "code",
   "execution_count": 7,
   "metadata": {
    "collapsed": false
   },
   "outputs": [],
   "source": [
    "with tf.variable_scope('rnn_cell'):\n",
    "    U = tf.get_variable('U', [2, state_size])\n",
    "    V = tf.get_variable('V', [state_size, state_size])\n",
    "    b = tf.get_variable('b', [state_size], initializer=tf.constant_initializer(0.0))\n",
    "\n",
    "def rnn_cell(rnn_input, state):\n",
    "    with tf.variable_scope('rnn_cell', reuse= True):\n",
    "        U = tf.get_variable('U', [2, state_size])\n",
    "        V = tf.get_variable('V', [state_size, state_size])\n",
    "        b = tf.get_variable('b', [state_size], initializer=tf.constant_initializer(0.0))\n",
    "    parz1 = tf.matmul(rnn_input, U) \n",
    "    parz2 = tf.matmul(state, V) \n",
    "    fin = tf.add(parz1,parz2) + b\n",
    "    return conv_h_sigma(fin), sqrt_conv_h2_sigma(fin)\n",
    "\n",
    "def get_initial_state():\n",
    "    with tf.variable_scope('inizialization', reuse= True):\n",
    "        iss = tf.get_variable('iss', [epoch_size, state_size], initializer=tf.constant_initializer(0.0))\n",
    "    return conv_h_sigma(iss), sqrt_conv_h2_sigma(iss)    \n",
    "    "
   ]
  },
  {
   "cell_type": "code",
   "execution_count": 8,
   "metadata": {
    "collapsed": false
   },
   "outputs": [],
   "source": [
    "\"\"\"\n",
    "Adding rnn_cells to graph\n",
    "\n",
    "This is a simplified version of the \"static_rnn\" function from Tensorflow's api. See:\n",
    "https://github.com/tensorflow/tensorflow/blob/master/tensorflow/contrib/rnn/python/ops/core_rnn.py#L41\n",
    "Note: In practice, using \"dynamic_rnn\" is a better choice that the \"static_rnn\":\n",
    "https://github.com/tensorflow/tensorflow/blob/master/tensorflow/python/ops/rnn.py#L390\n",
    "\"\"\"\n",
    "#state = init_state\n",
    "state = get_initial_state()\n",
    "rnn_outputs = []\n",
    "for rnn_input in rnn_inputs:\n",
    "    state = rnn_cell(rnn_input, state[0])\n",
    "    rnn_outputs.append(state)\n",
    "final_state = rnn_outputs[-1]"
   ]
  },
  {
   "cell_type": "code",
   "execution_count": 9,
   "metadata": {
    "collapsed": false
   },
   "outputs": [],
   "source": [
    "def calulate_initial_contribution(a, sigma):\n",
    "    with tf.variable_scope('rnn_cell', reuse= True):\n",
    "        V = tf.get_variable('V', [state_size, state_size])\n",
    "    iss = get_initial_state()\n",
    "    term1 = square_norm( tf.matmul( iss[1], V) )\n",
    "    term2 = square_norm( tf.matmul( iss[0], V) )\n",
    "    term3 = tf.square(sigma)*state_size*square_norm( iss[0]  )\n",
    "    return term1 - term2 + term3\n"
   ]
  },
  {
   "cell_type": "markdown",
   "metadata": {},
   "source": [
    "### Routine to calculate the real energy"
   ]
  },
  {
   "cell_type": "code",
   "execution_count": 10,
   "metadata": {
    "collapsed": true
   },
   "outputs": [],
   "source": [
    "def rnn_cell_real(rnn_input, state):\n",
    "    with tf.variable_scope('rnn_cell', reuse= True):\n",
    "        U = tf.get_variable('U', [2, state_size])\n",
    "        V = tf.get_variable('V', [state_size, state_size])\n",
    "        b = tf.get_variable('b', [state_size], initializer=tf.constant_initializer(0.0))\n",
    "    parz1 = tf.matmul(rnn_input, U) \n",
    "    parz2 = tf.matmul(state, V) \n",
    "    fin = tf.add(parz1,parz2) + b\n",
    "    return tf.erf(fin)\n",
    "\n",
    "def get_initial_state_real():\n",
    "    with tf.variable_scope('inizialization', reuse= True):\n",
    "        iss = tf.get_variable('iss', [epoch_size, state_size], initializer=tf.constant_initializer(0.0))\n",
    "    return tf.erf(iss)    \n",
    "\n",
    "state_real = get_initial_state_real()\n",
    "rnn_outputs_real = []\n",
    "for rnn_input in rnn_inputs:\n",
    "    state_real = rnn_cell_real(rnn_input, state_real)\n",
    "    rnn_outputs_real.append(state_real)\n",
    "final_state_real = rnn_outputs_real[-1]"
   ]
  },
  {
   "cell_type": "markdown",
   "metadata": {},
   "source": [
    "### End part for the real energy"
   ]
  },
  {
   "cell_type": "code",
   "execution_count": 11,
   "metadata": {
    "collapsed": false
   },
   "outputs": [],
   "source": [
    "\"\"\"\n",
    "Predictions, loss, training step\n",
    "\n",
    "Losses is similar to the \"sequence_loss\"\n",
    "function from Tensorflow's API, except that here we are using a list of 2D tensors, instead of a 3D tensor. See:\n",
    "https://github.com/tensorflow/tensorflow/blob/master/tensorflow/contrib/seq2seq/python/ops/loss.py#L30\n",
    "\"\"\"\n",
    "\n",
    "\n",
    "#logits and predictions\n",
    "with tf.variable_scope('softmax'):\n",
    "    W = tf.get_variable('W', [state_size, 1])\n",
    "    b = tf.get_variable('b', [1], initializer=tf.constant_initializer(0.0))\n",
    "\n",
    "\n",
    "prediction = conv_h_sigma((tf.matmul(final_state[0], W) + b) ) \n",
    "\n",
    "parz = tf.subtract(prediction,y)\n",
    "term1 = square_norm(sqrt_conv_h2_sigma(tf.matmul(final_state[1], W) + b ))\n",
    "term2 = square_norm( conv_h_sigma(tf.matmul(final_state[0], W) + b) ) \n",
    "\n",
    "term3 = square_norm( tf.matmul(final_state[1], W )   )\n",
    "term4 = square_norm( tf.matmul(final_state[0], W )   )\n",
    "term5 = sigma*sigma*square_norm(final_state[0])\n",
    "\n",
    "ca = calulate_initial_contribution(a, sigma)\n",
    "\n",
    "\n",
    "TT = lambdaa*( term3 - term4 + term5 + ca )\n",
    "\n",
    "total_loss = (tf.reduce_sum(tf.multiply(parz,parz)) + term1 - term2)/(2.*epoch_size) + TT\n",
    "#####ATTTENZIONE QUI\n",
    "################### ATTTENZIONE !!!!!!!!!!!!!!!!!!!!!!!!!!!!!!!!!!!!!!!!!!!!!!!!!!!!!!!!!!!!!!\n",
    "################### ATTENZIONE@!^#@@@@@@@@@@@@@@@@@@@@@@@@@@@@@@@@@@@@@@@@@@@@@@@@@@@@\n",
    "optimizer = tf.train.GradientDescentOptimizer(0.001).minimize(total_loss)"
   ]
  },
  {
   "cell_type": "code",
   "execution_count": 12,
   "metadata": {
    "collapsed": true
   },
   "outputs": [],
   "source": [
    "prediction_real = tf.erf((tf.matmul(final_state_real, W) + b) ) \n",
    "parz_real = tf.subtract(prediction_real,y)\n",
    "total_loss_real = tf.reduce_sum(tf.multiply(parz_real,parz_real))/(2.*epoch_size)"
   ]
  },
  {
   "cell_type": "code",
   "execution_count": 13,
   "metadata": {
    "collapsed": false
   },
   "outputs": [
    {
     "name": "stdout",
     "output_type": "stream",
     "text": [
      "average cost= 0.7465 average cost real= 0.3142\n",
      "average cost= 0.6688 average cost real= 0.2810\n",
      "average cost= 0.6187 average cost real= 0.2500\n",
      "average cost= 0.5956 average cost real= 0.2255\n",
      "average cost= 0.5753 average cost real= 0.1897\n",
      "average cost= 0.5574 average cost real= 0.1629\n",
      "###################\n",
      "SIGMAV =  5.46\n",
      "average cost= 0.5470 average cost real= 0.1624\n",
      "average cost= 0.5373 average cost real= 0.1320\n",
      "average cost= 0.5293 average cost real= 0.1115\n",
      "average cost= 0.5252 average cost real= 0.0922\n",
      "average cost= 0.5209 average cost real= 0.0827\n",
      "average cost= 0.5153 average cost real= 0.0723\n",
      "###################\n",
      "SIGMAV =  4.9686\n",
      "average cost= 0.5039 average cost real= 0.0743\n",
      "average cost= 0.4987 average cost real= 0.0651\n",
      "average cost= 0.4893 average cost real= 0.0636\n",
      "average cost= 0.4880 average cost real= 0.0693\n",
      "average cost= 0.4800 average cost real= 0.0761\n",
      "average cost= 0.4789 average cost real= 0.0754\n",
      "###################\n",
      "SIGMAV =  4.521426000000001\n",
      "average cost= 0.4565 average cost real= 0.0814\n",
      "average cost= 0.4568 average cost real= 0.0829\n",
      "average cost= 0.4492 average cost real= 0.0943\n",
      "average cost= 0.4441 average cost real= 0.1012\n",
      "average cost= 0.4384 average cost real= 0.1117\n",
      "average cost= 0.4326 average cost real= 0.1188\n",
      "###################\n",
      "SIGMAV =  4.1144976600000005\n",
      "average cost= 0.4107 average cost real= 0.1199\n",
      "average cost= 0.4070 average cost real= 0.1249\n",
      "average cost= 0.4006 average cost real= 0.1306\n",
      "average cost= 0.3923 average cost real= 0.1376\n",
      "average cost= 0.3910 average cost real= 0.1370\n",
      "average cost= 0.3848 average cost real= 0.1417\n",
      "###################\n",
      "SIGMAV =  3.7441928706000005\n",
      "average cost= 0.3596 average cost real= 0.1418\n",
      "average cost= 0.3556 average cost real= 0.1409\n",
      "average cost= 0.3492 average cost real= 0.1452\n",
      "average cost= 0.3433 average cost real= 0.1462\n",
      "average cost= 0.3377 average cost real= 0.1493\n",
      "average cost= 0.3324 average cost real= 0.1477\n",
      "###################\n",
      "SIGMAV =  3.4072155122460006\n",
      "average cost= 0.3067 average cost real= 0.1469\n",
      "average cost= 0.2987 average cost real= 0.1495\n",
      "average cost= 0.2943 average cost real= 0.1458\n",
      "average cost= 0.2882 average cost real= 0.1510\n",
      "average cost= 0.2834 average cost real= 0.1487\n",
      "average cost= 0.2772 average cost real= 0.1536\n",
      "###################\n",
      "SIGMAV =  3.1005661161438605\n",
      "average cost= 0.2501 average cost real= 0.1505\n",
      "average cost= 0.2432 average cost real= 0.1492\n",
      "average cost= 0.2398 average cost real= 0.1496\n",
      "average cost= 0.2353 average cost real= 0.1530\n",
      "average cost= 0.2298 average cost real= 0.1507\n",
      "average cost= 0.2262 average cost real= 0.1495\n",
      "###################\n",
      "SIGMAV =  2.821515165690913\n"
     ]
    }
   ],
   "source": [
    "# Initializing the variables\n",
    "init = tf.global_variables_initializer()\n",
    "training_state = np.zeros((num_samples, state_size))\n",
    "\n",
    "# Launch the graph\n",
    "sigmaV = 6.\n",
    "listsigma = []\n",
    "listepochs = []\n",
    "arrayvalues = []\n",
    "arrayvalues1 = []\n",
    "initialiter = True\n",
    "with tf.Session() as sess:\n",
    "    sess.run(init)\n",
    "    while sigmaV > 3.1:\n",
    "        listsigma.append(sigmaV)\n",
    "        arrayvaluesparz = []\n",
    "        arrayvalues1parz = []\n",
    "        for idx, epoch in enumerate(gen_epochs(num_epochs, epoch_size, num_step)):\n",
    "            training_loss = 0\n",
    "            training_loss_real = 0\n",
    "            if initialiter == True:\n",
    "                listepochs.append(idx)\n",
    "            for step, (X, Y) in enumerate(epoch):\n",
    "                sess.run([optimizer], feed_dict={x: X, y: Y, sigma: sigmaV})\n",
    "                c = sess.run(total_loss, feed_dict={x: X, y: Y, sigma: sigmaV})\n",
    "                cr = sess.run(total_loss_real, feed_dict={x: X, y: Y, sigma: sigmaV})\n",
    "                training_loss += c\n",
    "                training_loss_real += cr\n",
    "                if (step == num_step - 1):\n",
    "                    arrayvaluesparz.append( training_loss/step )\n",
    "                    arrayvalues1parz.append( training_loss_real/step )\n",
    "                if idx % 20 == 0:\n",
    "                    if (step == num_step - 1):\n",
    "                        print( \"average cost=\", \"{:.4f}\".format(training_loss/step), \n",
    "                               \"average cost real=\", \"{:.4f}\".format(training_loss_real/step)  )\n",
    "        arrayvalues.append(arrayvaluesparz)\n",
    "        arrayvalues1.append(arrayvalues1parz)            \n",
    "        initialiter = False                \n",
    "        sigmaV = sigmaV*0.91\n",
    "        print('###################')\n",
    "        print('SIGMAV = ', sigmaV)\n",
    "\n",
    "       "
   ]
  },
  {
   "cell_type": "code",
   "execution_count": 14,
   "metadata": {
    "collapsed": false
   },
   "outputs": [
    {
     "name": "stdout",
     "output_type": "stream",
     "text": [
      "(8, 101)\n"
     ]
    }
   ],
   "source": [
    "aa = np.asarray(arrayvalues)\n",
    "bb = np.asarray(arrayvalues1)\n",
    "print(aa.shape)"
   ]
  },
  {
   "cell_type": "code",
   "execution_count": 52,
   "metadata": {
    "collapsed": false
   },
   "outputs": [
    {
     "data": {
      "image/png": "[encoded data removed]",
      "text/plain": [
       "<matplotlib.figure.Figure at 0x7feea0da1f98>"
      ]
     },
     "metadata": {},
     "output_type": "display_data"
    }
   ],
   "source": [
    "from mpl_toolkits.mplot3d import Axes3D\n",
    "from matplotlib import cm\n",
    "from matplotlib.ticker import LinearLocator, FormatStrFormatter\n",
    "\n",
    "fig = plt.figure()\n",
    "ax = fig.gca(projection='3d')\n",
    "\n",
    "\n",
    "X = np.asarray(listsigma)\n",
    "Y = np.asarray(listepochs)\n",
    "Y, X = np.meshgrid(Y, X)\n",
    "\n",
    "\n",
    "# Plot the surface.\n",
    "surf = ax.plot_surface( X,Y, aa, cmap=cm.hot,\n",
    "                       linewidth=0, antialiased=False)\n",
    "\n",
    "surf1 = ax.plot_surface( X,Y, bb, cmap=cm.coolwarm,\n",
    "                       linewidth=0, antialiased=False)\n",
    "\n",
    "#ax.set_zlim(.02, .81)\n",
    "ax.zaxis.set_major_locator(LinearLocator(8))\n",
    "ax.zaxis.set_major_formatter(FormatStrFormatter('%.01f'))\n",
    "ax.set_xlabel('Sigma')\n",
    "ax.set_ylabel('Epochs')\n",
    "\n",
    "\n",
    "clb = fig.colorbar(surf, shrink=0.5, aspect=15)\n",
    "clb1 = fig.colorbar(surf1, shrink=0.5, aspect=15)\n",
    "\n",
    "clb.ax.set_title('relaxed energy', loc='left', fontsize = 8)\n",
    "clb1.ax.set_title('real energy', loc='left', fontsize = 8)\n",
    "fig.tight_layout()\n",
    "\n",
    "\n",
    "\n",
    "plt.show()\n",
    "fig.savefig('foo.png')"
   ]
  },
  {
   "cell_type": "code",
   "execution_count": null,
   "metadata": {
    "collapsed": true
   },
   "outputs": [],
   "source": []
  }
 ],
 "metadata": {
  "kernelspec": {
   "display_name": "Python 3",
   "language": "python",
   "name": "python3"
  },
  "language_info": {
   "codemirror_mode": {
    "name": "ipython",
    "version": 3
   },
   "file_extension": ".py",
   "mimetype": "text/x-python",
   "name": "python",
   "nbconvert_exporter": "python",
   "pygments_lexer": "ipython3",
   "version": "3.5.3"
  }
 },
 "nbformat": 4,
 "nbformat_minor": 1
}
